{
 "cells": [
  {
   "cell_type": "code",
   "execution_count": 1,
   "metadata": {},
   "outputs": [],
   "source": [
    "import time\n",
    "import numpy as np\n",
    "import matplotlib.pyplot as plt\n",
    "from multiprocessing import Pool\n",
    "from sklearn import svm"
   ]
  },
  {
   "cell_type": "code",
   "execution_count": 59,
   "metadata": {},
   "outputs": [
    {
     "data": {
      "text/plain": [
       "(3823, 65)"
      ]
     },
     "execution_count": 59,
     "metadata": {},
     "output_type": "execute_result"
    }
   ],
   "source": [
    "test = np.loadtxt(\"optdigits.txt\", delimiter = \",\")\n",
    "test.shape"
   ]
  },
  {
   "cell_type": "code",
   "execution_count": 60,
   "metadata": {},
   "outputs": [],
   "source": [
    "X = test[:, 0:64]\n",
    "y = test[:, 64]"
   ]
  },
  {
   "cell_type": "code",
   "execution_count": 61,
   "metadata": {},
   "outputs": [],
   "source": [
    "def cvkfold(X, y, tuning_params, partitions, k):\n",
    "    n_tuning_params = tuning_params.shape[0]  # 10 tuning params\n",
    "\n",
    "    partition = partitions[k]\n",
    "    Train = np.delete(np.arange(0, X.shape[0]), partition)\n",
    "    Test = partition\n",
    "    X_train = X[Train, :]\n",
    "    y_train = y[Train]\n",
    "\n",
    "    X_test = X[Test, :]\n",
    "    y_test = y[Test]\n",
    "\n",
    "    accuracies = np.zeros(n_tuning_params)\n",
    "    for i in range(0, n_tuning_params):\n",
    "        svc = svm.SVC(C = tuning_params[i], kernel = \"linear\")\n",
    "        accuracies[i] = svc.fit(X_train, y_train).score(X_test, y_test)\n",
    "    return accuracies"
   ]
  },
  {
   "cell_type": "code",
   "execution_count": 62,
   "metadata": {},
   "outputs": [],
   "source": [
    "K = 5\n",
    "tuning_params = np.logspace(-6, -1, 10)\n",
    "partitions = np.array_split(np.random.permutation([i for i in range(0, X.shape[0])]), K)"
   ]
  },
  {
   "cell_type": "code",
   "execution_count": 63,
   "metadata": {},
   "outputs": [
    {
     "name": "stdout",
     "output_type": "stream",
     "text": [
      "(3058,)\n",
      "(765,)\n",
      "(3058,)\n",
      "(765,)\n",
      "(3058,)\n",
      "(765,)\n",
      "(3059,)\n",
      "(764,)\n",
      "(3059,)\n",
      "(764,)\n",
      "Serial runs 19.040 seconds.\n"
     ]
    }
   ],
   "source": [
    "st = time.time()\n",
    "for k in range(0, K):\n",
    "    Accuracies = cvkfold(X, y, tuning_params, partitions, k)\n",
    "print('Serial runs %0.3f seconds.' % (time.time() - st))"
   ]
  },
  {
   "cell_type": "code",
   "execution_count": 64,
   "metadata": {},
   "outputs": [
    {
     "name": "stdout",
     "output_type": "stream",
     "text": [
      "CV max accuracy 0.976440.\n",
      "Best tuning param 0.000001.\n"
     ]
    }
   ],
   "source": [
    "CV_accuracy = np.mean(Accuracies, axis = 0)\n",
    "print('CV max accuracy %f.' %  (max(Accuracies)))\n",
    "best_tuning_param = tuning_params[np.argmax(CV_accuracy)]\n",
    "print('Best tuning param %0.6f.'% best_tuning_param)"
   ]
  },
  {
   "cell_type": "code",
   "execution_count": 65,
   "metadata": {},
   "outputs": [
    {
     "name": "stdout",
     "output_type": "stream",
     "text": [
      "[1.00000000e-06 3.59381366e-06 1.29154967e-05 4.64158883e-05\n",
      " 1.66810054e-04 5.99484250e-04 2.15443469e-03 7.74263683e-03\n",
      " 2.78255940e-02 1.00000000e-01]\n"
     ]
    },
    {
     "data": {
      "text/plain": [
       "(10,)"
      ]
     },
     "execution_count": 65,
     "metadata": {},
     "output_type": "execute_result"
    }
   ],
   "source": [
    "tuning_params = np.logspace(-6, -1, 10)\n",
    "print(tuning_params)\n",
    "tuning_params.shape"
   ]
  },
  {
   "cell_type": "code",
   "execution_count": 41,
   "metadata": {},
   "outputs": [],
   "source": [
    "partitions = np.array_split(np.random.permutation([i for i in range(0, X.shape[0])]), K)"
   ]
  },
  {
   "cell_type": "code",
   "execution_count": 42,
   "metadata": {},
   "outputs": [
    {
     "data": {
      "text/plain": [
       "(765,)"
      ]
     },
     "execution_count": 42,
     "metadata": {},
     "output_type": "execute_result"
    }
   ],
   "source": [
    "partitions[0].shape"
   ]
  },
  {
   "cell_type": "code",
   "execution_count": 43,
   "metadata": {},
   "outputs": [
    {
     "data": {
      "text/plain": [
       "(765,)"
      ]
     },
     "execution_count": 43,
     "metadata": {},
     "output_type": "execute_result"
    }
   ],
   "source": [
    "partitions[1].shape"
   ]
  },
  {
   "cell_type": "code",
   "execution_count": 44,
   "metadata": {},
   "outputs": [
    {
     "data": {
      "text/plain": [
       "764.6"
      ]
     },
     "execution_count": 44,
     "metadata": {},
     "output_type": "execute_result"
    }
   ],
   "source": [
    "3823 / 5"
   ]
  },
  {
   "cell_type": "code",
   "execution_count": 45,
   "metadata": {},
   "outputs": [
    {
     "data": {
      "text/plain": [
       "array([2, 4, 5])"
      ]
     },
     "execution_count": 45,
     "metadata": {},
     "output_type": "execute_result"
    }
   ],
   "source": [
    "a = np.array([1,2,3,4,5,6,7,8,9,0])\n",
    "b = [1,3,4]\n",
    "a[b]"
   ]
  },
  {
   "cell_type": "code",
   "execution_count": 48,
   "metadata": {},
   "outputs": [
    {
     "ename": "IndexError",
     "evalue": "list index out of range",
     "output_type": "error",
     "traceback": [
      "\u001b[0;31m---------------------------------------------------------------------------\u001b[0m",
      "\u001b[0;31mIndexError\u001b[0m                                Traceback (most recent call last)",
      "\u001b[0;32m<ipython-input-48-620162bd5cb2>\u001b[0m in \u001b[0;36m<module>\u001b[0;34m\u001b[0m\n\u001b[0;32m----> 1\u001b[0;31m \u001b[0mpartitions\u001b[0m\u001b[0;34m[\u001b[0m\u001b[0;36m5\u001b[0m\u001b[0;34m]\u001b[0m\u001b[0;34m\u001b[0m\u001b[0m\n\u001b[0m",
      "\u001b[0;31mIndexError\u001b[0m: list index out of range"
     ]
    }
   ],
   "source": [
    "partitions[5]"
   ]
  },
  {
   "cell_type": "code",
   "execution_count": 57,
   "metadata": {},
   "outputs": [
    {
     "data": {
      "image/png": "[encoded data removed]",
      "text/plain": [
       "<Figure size 432x288 with 1 Axes>"
      ]
     },
     "metadata": {
      "needs_background": "light"
     },
     "output_type": "display_data"
    },
    {
     "data": {
      "text/plain": [
       "<Figure size 432x288 with 0 Axes>"
      ]
     },
     "metadata": {},
     "output_type": "display_data"
    }
   ],
   "source": [
    "times = [87.9, 82.5, 78.8, 77.2, 75.8]\n",
    "procs = [1, 2, 4, 8, 16]\n",
    "plt.plot(procs, times, '-ok')\n",
    "plt.xlabel(\"num of processors\")\n",
    "plt.ylabel(\"Time of execution\")\n",
    "plt.title(\"Execution time of code for various jobs in XGBoost\")\n",
    "plt.show()\n",
    "plt.savefig(\"xgboost_processors_vs_exec_time.png\")"
   ]
  },
  {
   "cell_type": "code",
   "execution_count": 2,
   "metadata": {},
   "outputs": [
    {
     "data": {
      "image/png": "[encoded data removed]",
      "text/plain": [
       "<Figure size 432x288 with 1 Axes>"
      ]
     },
     "metadata": {
      "needs_background": "light"
     },
     "output_type": "display_data"
    }
   ],
   "source": [
    "one = [20.055, 20.055, 20.055]\n",
    "pools = [11.374, 7.654, 4.146]\n",
    "procs = [4.498, 4.498, 4.498]\n",
    "num = [2, 4, 8]\n",
    "plt.plot(num, one, '-ok', color=\"blue\", label=\"Single\")\n",
    "plt.plot(num, pools, '-ok', color=\"green\", label=\"Pool\")\n",
    "plt.plot(num, procs, '-ok', color=\"red\", label=\"Process\")\n",
    "plt.xlabel(\"num of processors\")\n",
    "plt.ylabel(\"Time of execution\")\n",
    "plt.title(\"Execution time of code for various jobs in SVM\")\n",
    "plt.legend()\n",
    "plt.savefig(\"svm_processors_vs_exec_time.png\")"
   ]
  },
  {
   "cell_type": "code",
   "execution_count": null,
   "metadata": {},
   "outputs": [],
   "source": [
    "gpus = [1, 2, 3, 4]\n",
    "batches = [128, 256, 512]\n",
    "one = [2674.47, 2417.13, 2218.39, 2329.82]\n",
    "two = [2461.46, 2360.52, 2028.72, 2350.78]\n",
    "three = [2500.82, 2306.56, 2296.49, 2335.14]\n",
    "plt.plot(gpus, one, '-ok', color=\"blue\", label=\"512 batches\")\n",
    "plt.plot(gpus, two, '-ok', color=\"green\", label=\"256 batches\")\n",
    "plt.plot(gpus, three, '-ok', color=\"red\", label=\"128 batches\")\n",
    "plt.xlabel(\"Num of GPUs\")\n",
    "plt.ylabel(\"Time of execution\")\n",
    "plt.title(\"Execution time on GPUs based on batch size\")\n",
    "plt.legend()\n",
    "plt.savefig(\"gpus_vs_time.png\")"
   ]
  }
 ],
 "metadata": {
  "kernelspec": {
   "display_name": "Python 3",
   "language": "python",
   "name": "python3"
  },
  "language_info": {
   "codemirror_mode": {
    "name": "ipython",
    "version": 3
   },
   "file_extension": ".py",
   "mimetype": "text/x-python",
   "name": "python",
   "nbconvert_exporter": "python",
   "pygments_lexer": "ipython3",
   "version": "3.6.5"
  }
 },
 "nbformat": 4,
 "nbformat_minor": 4
}
