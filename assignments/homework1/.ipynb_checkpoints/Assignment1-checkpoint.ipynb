{
 "cells": [
  {
   "cell_type": "code",
   "execution_count": 70,
   "metadata": {},
   "outputs": [],
   "source": [
    "import matplotlib.pyplot as plt\n",
    "import pandas as pd\n",
    "from sklearn import preprocessing"
   ]
  },
  {
   "cell_type": "code",
   "execution_count": 71,
   "metadata": {},
   "outputs": [],
   "source": [
    "df = pd.DataFrame()"
   ]
  },
  {
   "cell_type": "code",
   "execution_count": 72,
   "metadata": {},
   "outputs": [
    {
     "name": "stdout",
     "output_type": "stream",
     "text": [
      "[0, 0.064913, 0.15019, 0.27241, 0.310506]\n",
      "[0.001328, 0.002428, 0.004188, 0.004568, 0.006786]\n",
      "[0.004859, 0.004859, 0.004859, 0.004859, 0.004859]\n"
     ]
    }
   ],
   "source": [
    "df[\"cores\"] = [1,2,4,6,8]\n",
    "df[\"MPI\"] = [0, 0.064913, 0.150190, 0.272410, 0.310506] \n",
    "df[\"OMP\"] = [0.001328, 0.002428, 0.004188, 0.004568, 0.006786]\n",
    "df[\"Serial\"] = [0.004859] * 5\n",
    "print(mpi)\n",
    "print(omp)\n",
    "print(serial)"
   ]
  },
  {
   "cell_type": "code",
   "execution_count": 73,
   "metadata": {},
   "outputs": [
    {
     "data": {
      "text/html": [
       "<div>\n",
       "<style scoped>\n",
       "    .dataframe tbody tr th:only-of-type {\n",
       "        vertical-align: middle;\n",
       "    }\n",
       "\n",
       "    .dataframe tbody tr th {\n",
       "        vertical-align: top;\n",
       "    }\n",
       "\n",
       "    .dataframe thead th {\n",
       "        text-align: right;\n",
       "    }\n",
       "</style>\n",
       "<table border=\"1\" class=\"dataframe\">\n",
       "  <thead>\n",
       "    <tr style=\"text-align: right;\">\n",
       "      <th></th>\n",
       "      <th>cores</th>\n",
       "      <th>MPI</th>\n",
       "      <th>OMP</th>\n",
       "      <th>Serial</th>\n",
       "    </tr>\n",
       "  </thead>\n",
       "  <tbody>\n",
       "    <tr>\n",
       "      <th>0</th>\n",
       "      <td>1</td>\n",
       "      <td>0.000000</td>\n",
       "      <td>0.001328</td>\n",
       "      <td>0.004859</td>\n",
       "    </tr>\n",
       "    <tr>\n",
       "      <th>1</th>\n",
       "      <td>2</td>\n",
       "      <td>0.064913</td>\n",
       "      <td>0.002428</td>\n",
       "      <td>0.004859</td>\n",
       "    </tr>\n",
       "    <tr>\n",
       "      <th>2</th>\n",
       "      <td>4</td>\n",
       "      <td>0.150190</td>\n",
       "      <td>0.004188</td>\n",
       "      <td>0.004859</td>\n",
       "    </tr>\n",
       "    <tr>\n",
       "      <th>3</th>\n",
       "      <td>6</td>\n",
       "      <td>0.272410</td>\n",
       "      <td>0.004568</td>\n",
       "      <td>0.004859</td>\n",
       "    </tr>\n",
       "    <tr>\n",
       "      <th>4</th>\n",
       "      <td>8</td>\n",
       "      <td>0.310506</td>\n",
       "      <td>0.006786</td>\n",
       "      <td>0.004859</td>\n",
       "    </tr>\n",
       "  </tbody>\n",
       "</table>\n",
       "</div>"
      ],
      "text/plain": [
       "   cores       MPI       OMP    Serial\n",
       "0      1  0.000000  0.001328  0.004859\n",
       "1      2  0.064913  0.002428  0.004859\n",
       "2      4  0.150190  0.004188  0.004859\n",
       "3      6  0.272410  0.004568  0.004859\n",
       "4      8  0.310506  0.006786  0.004859"
      ]
     },
     "execution_count": 73,
     "metadata": {},
     "output_type": "execute_result"
    }
   ],
   "source": [
    "df.head()"
   ]
  },
  {
   "cell_type": "code",
   "execution_count": 74,
   "metadata": {},
   "outputs": [
    {
     "data": {
      "text/html": [
       "<div>\n",
       "<style scoped>\n",
       "    .dataframe tbody tr th:only-of-type {\n",
       "        vertical-align: middle;\n",
       "    }\n",
       "\n",
       "    .dataframe tbody tr th {\n",
       "        vertical-align: top;\n",
       "    }\n",
       "\n",
       "    .dataframe thead th {\n",
       "        text-align: right;\n",
       "    }\n",
       "</style>\n",
       "<table border=\"1\" class=\"dataframe\">\n",
       "  <thead>\n",
       "    <tr style=\"text-align: right;\">\n",
       "      <th></th>\n",
       "      <th>cores</th>\n",
       "      <th>MPI</th>\n",
       "      <th>OMP</th>\n",
       "      <th>Serial</th>\n",
       "    </tr>\n",
       "  </thead>\n",
       "  <tbody>\n",
       "    <tr>\n",
       "      <th>0</th>\n",
       "      <td>1</td>\n",
       "      <td>0.000000</td>\n",
       "      <td>0.000000</td>\n",
       "      <td>0.004859</td>\n",
       "    </tr>\n",
       "    <tr>\n",
       "      <th>1</th>\n",
       "      <td>2</td>\n",
       "      <td>0.209056</td>\n",
       "      <td>0.201539</td>\n",
       "      <td>0.004859</td>\n",
       "    </tr>\n",
       "    <tr>\n",
       "      <th>2</th>\n",
       "      <td>4</td>\n",
       "      <td>0.483694</td>\n",
       "      <td>0.524001</td>\n",
       "      <td>0.004859</td>\n",
       "    </tr>\n",
       "    <tr>\n",
       "      <th>3</th>\n",
       "      <td>6</td>\n",
       "      <td>0.877310</td>\n",
       "      <td>0.593624</td>\n",
       "      <td>0.004859</td>\n",
       "    </tr>\n",
       "    <tr>\n",
       "      <th>4</th>\n",
       "      <td>8</td>\n",
       "      <td>1.000000</td>\n",
       "      <td>1.000000</td>\n",
       "      <td>0.004859</td>\n",
       "    </tr>\n",
       "  </tbody>\n",
       "</table>\n",
       "</div>"
      ],
      "text/plain": [
       "   cores       MPI       OMP    Serial\n",
       "0      1  0.000000  0.000000  0.004859\n",
       "1      2  0.209056  0.201539  0.004859\n",
       "2      4  0.483694  0.524001  0.004859\n",
       "3      6  0.877310  0.593624  0.004859\n",
       "4      8  1.000000  1.000000  0.004859"
      ]
     },
     "execution_count": 74,
     "metadata": {},
     "output_type": "execute_result"
    }
   ],
   "source": [
    "x = df[[\"MPI\",\"OMP\"]].values #returns a numpy array\n",
    "min_max_scaler = preprocessing.MinMaxScaler()\n",
    "x_scaled = min_max_scaler.fit_transform(x)\n",
    "scaled = pd.DataFrame(x_scaled, columns=[\"MPI\",\"OMP\"])\n",
    "df[\"MPI\"] = scaled[\"MPI\"]\n",
    "df[\"OMP\"] = scaled[\"OMP\"]\n",
    "df.head()"
   ]
  },
  {
   "cell_type": "code",
   "execution_count": 75,
   "metadata": {},
   "outputs": [
    {
     "data": {
      "image/png": "[encoded data removed]",
      "text/plain": [
       "<Figure size 576x576 with 1 Axes>"
      ]
     },
     "metadata": {
      "needs_background": "light"
     },
     "output_type": "display_data"
    }
   ],
   "source": [
    "plt.figure(figsize=(8,8))\n",
    "plt.plot(list(df[\"cores\"].values), list(df[\"MPI\"].values))\n",
    "plt.plot(list(df[\"cores\"].values), list(df[\"OMP\"].values))\n",
    "plt.plot(list(df[\"cores\"].values), list(df[\"Serial\"].values))\n",
    "plt.legend(['mpi', 'omp', 'serial'], loc='upper right')\n",
    "plt.xlabel(\"Cores\")\n",
    "plt.ylabel(\"Exection Time\")\n",
    "plt.title(\"Performance based on cores\")\n",
    "plt.show()"
   ]
  },
  {
   "cell_type": "markdown",
   "metadata": {},
   "source": [
    "## Conclusion\n",
    "\n",
    "1. The **mm_serial.c** file gives constant execution time since we are not configuring any CPU cores for it. It gives a constant time as given in the above table under the **Serial** column. The time is calculated in seconds.\n",
    "\n",
    "2. The **mm_mpi.c** file can be configured to be run on different CPU cores as given by the command given above. The execution time increases as cores increase. This is because of the fact that our computational task at hand is very small and hence"
   ]
  }
 ],
 "metadata": {
  "kernelspec": {
   "display_name": "Python 3",
   "language": "python",
   "name": "python3"
  },
  "language_info": {
   "codemirror_mode": {
    "name": "ipython",
    "version": 3
   },
   "file_extension": ".py",
   "mimetype": "text/x-python",
   "name": "python",
   "nbconvert_exporter": "python",
   "pygments_lexer": "ipython3",
   "version": "3.6.5"
  }
 },
 "nbformat": 4,
 "nbformat_minor": 2
}
